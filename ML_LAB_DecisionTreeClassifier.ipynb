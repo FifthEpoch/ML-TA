{
 "cells": [
  {
   "cell_type": "markdown",
   "id": "23e8912a",
   "metadata": {},
   "source": [
    "# Decision Trees"
   ]
  },
  {
   "cell_type": "markdown",
   "id": "cb1f7de3",
   "metadata": {},
   "source": [
    "What are our learning objectives for this lesson?\n",
    "\n",
    "* Learn how to apply Decision Trees in a classification problem\n",
    "* Get familiar with the scikit-learn library\n",
    "\n",
    "In this lab, we will once again construct a machine learning model that predict the species of an iris based on its pedal and sepal dimensions. This time, we will use another approach in the supervised learning toolbox–the decision tree, instead of using the support vector machine like the last lan we worked on. \n",
    "\n",
    "Beginning with the root node, every node that is not a leave node acts as a decision node in the tree. In its essence, a decision tree architecture is where we do a greedy search to find the optimal split point in a tree. The decision nodes are where the data is split, and the leave nodes represents outputs like a class label. \n",
    "\n",
    "Content used in this lesson is based upon information in the following sources:\n",
    "* Géron, A. (2019). Hands-on machine learning with Scikit-Learn, Keras and TensorFlow: concepts, tools, and techniques to build intelligent systems (2nd ed.). O’Reilly.\n",
    "\n",
    "## Lab Tasks \n",
    "\n",
    "1. Import the iris dataset\n",
    "2. Read the documentation for Scikit-Learn's DecisionTreeClassifier and use it\n",
    "3. Visualize the tree using Scikit-Learn\n",
    "\n",
    "### Import the Iris Dataset\n",
    "\n",
    "* Import the Iris dataset\n",
    "* Split the dataset into train and test sets, use a 70:30 split ratio\n",
    "    * You can reduce the dimension of the data by dropping features or by projecting the inputs to a lower dimension, you can also keep the data as it is.\n",
    "\n",
    "Here are some import statements to get you started."
   ]
  },
  {
   "cell_type": "code",
   "execution_count": null,
   "id": "45d847fb",
   "metadata": {},
   "outputs": [],
   "source": [
    "from sklearn.datasets import load_iris\n",
    "import sklearn.tree as tree\n",
    "import numpy as np"
   ]
  },
  {
   "cell_type": "code",
   "execution_count": null,
   "id": "356e4d40",
   "metadata": {},
   "outputs": [],
   "source": [
    "# TODO: import the iris datset here\n",
    "\n",
    "???\n",
    "\n",
    "# TODO: Split the data into train and test set. \n",
    "\n",
    "???"
   ]
  },
  {
   "cell_type": "markdown",
   "id": "08ebd182",
   "metadata": {},
   "source": [
    "### Select a Model\n",
    "\n",
    "Visit the [documentation](https://scikit-learn.org/stable/modules/classes.html#module-sklearn.tree) of ```sklearn.tree```, select a tree model that best fit the task we are training the model to perform. \n",
    "\n",
    "Once you have selected a model, we want to determine the depth of the tree. In Scikit-Learn, we can adjust the ```max_depth``` parameter to limit the depth the tree is allowed to grow. The deeper the tree, the more splits we make in the data, and the more complex the model will become. If the number of splits is too low, the model underfits the data and if it is too high the model overfits. \n",
    "\n",
    "Recall that the root node is considered to have a depth of 0. You can try different depths. For now, we can simply put in ```None``` (which is the default value for this optional parameter) for the parameter and see how many levels ends up in our tree.\n",
    "\n",
    "What we want to do in the cell below:\n",
    "* Set up the model of choice\n",
    "* fit the train set to the model"
   ]
  },
  {
   "cell_type": "code",
   "execution_count": null,
   "id": "71581f17",
   "metadata": {},
   "outputs": [],
   "source": [
    "# TODO: Set up the model of choice and fit the training data to it\n",
    "\n",
    "???"
   ]
  },
  {
   "cell_type": "markdown",
   "id": "a51a26df",
   "metadata": {},
   "source": [
    "### Test the Fitted Model\n",
    "\n",
    "Visit the documentation of your particular Scikit-Learn tree model to find different built-in methods for testing your model. Try the different methods available."
   ]
  },
  {
   "cell_type": "code",
   "execution_count": null,
   "id": "9c667c31",
   "metadata": {},
   "outputs": [],
   "source": [
    "# TODO: Try different built-in testing methods\n",
    "\n",
    "???"
   ]
  },
  {
   "cell_type": "markdown",
   "id": "96a519d5",
   "metadata": {},
   "source": [
    "##### 💯 What is the accuracy of your model?"
   ]
  },
  {
   "cell_type": "markdown",
   "id": "807143e1",
   "metadata": {},
   "source": [
    "### Visualize the Tree\n",
    "\n",
    "The decision tree model makes the internal decisions made by the model intuitive to interpret. One way to exmaple the internal decision process of a decision tree model is to print out the tree and see for ourselves what kind of decision is being made in each node. We will use a module in ```sklearn.tree``` called ```export_graphviz``` to visualize the tree.\n",
    "\n",
    "In order to visualize the graph inside of this notebook (instead of save .dot and image files in our local directory outside of the notebook), we will install and import some modules. \n",
    "\n",
    "If you wish to save the .dot graph to a local directory and convert the .dot to an image file instead, note the following:\n",
    "* pick the directory you would like to save the .dot to\n",
    "    *  ```f = open(\"some/directory/on/your/machine/iris_tree.dot\", 'w')```\n",
    "* add  ```out_file=f``` to the parameters when you call the ```export_graphviz``` function\n",
    "* you don't have to save the output of ```export_graphviz``` to a variable since the output is being saved to the specified directory\n",
    "* run ```!dot -Tpng iris_tree.dot > iris_tree.png``` in the directory where the .dot is saved to obtain a png of the tree graph"
   ]
  },
  {
   "cell_type": "code",
   "execution_count": null,
   "id": "c788015b",
   "metadata": {},
   "outputs": [],
   "source": [
    "# DELETE THIS CELL if you wish to save the image file locally\n",
    "\n",
    "! pip install pydotplus\n",
    "import pydotplus\n",
    "from IPython.display import Image, display"
   ]
  },
  {
   "cell_type": "markdown",
   "id": "94cf1486",
   "metadata": {},
   "source": [
    "What we want to do here:\n",
    "* Visit the [documentation](https://scikit-learn.org/stable/modules/generated/sklearn.tree.export_graphviz.html) of ```export_graphviz``` to find out what parameters it takes\n",
    "* Experiment with the ```max_depth```, print out the graphs with different depths, find the ```max_depth``` value that yields the highest performance. "
   ]
  },
  {
   "cell_type": "code",
   "execution_count": null,
   "id": "7c0d48c4",
   "metadata": {},
   "outputs": [],
   "source": [
    "from sklearn.tree import export_graphviz\n",
    "\n",
    "# TODO: fill in the parameters for this function\n",
    "dot_data = export_graphviz(\n",
    " ???\n",
    " )\n",
    "\n",
    "# DELETE THESE 2 LINES if you wish to save the image file locally\n",
    "graph = pydotplus.graph_from_dot_data(dot_data)\n",
    "display(Image(data=graph.create_png()))"
   ]
  },
  {
   "cell_type": "markdown",
   "id": "4cd3927d",
   "metadata": {},
   "source": [
    "##### What is the depth that seemed to work the best for your model? Is it deeper or shallower than the initial depth with the default setting? Do you have a hypothesis on why that might be?"
   ]
  }
 ],
 "metadata": {
  "kernelspec": {
   "display_name": "Python 3 (ipykernel)",
   "language": "python",
   "name": "python3"
  },
  "language_info": {
   "codemirror_mode": {
    "name": "ipython",
    "version": 3
   },
   "file_extension": ".py",
   "mimetype": "text/x-python",
   "name": "python",
   "nbconvert_exporter": "python",
   "pygments_lexer": "ipython3",
   "version": "3.9.9"
  }
 },
 "nbformat": 4,
 "nbformat_minor": 5
}
